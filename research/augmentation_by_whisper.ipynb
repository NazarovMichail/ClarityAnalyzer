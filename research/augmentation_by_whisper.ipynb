{
 "cells": [
  {
   "cell_type": "markdown",
   "metadata": {},
   "source": [
    "## Аугментация данных при помощи дообученной модели Whisper"
   ]
  },
  {
   "cell_type": "markdown",
   "metadata": {},
   "source": [
    "#### Настройка CUDA"
   ]
  },
  {
   "cell_type": "code",
   "execution_count": 2,
   "metadata": {},
   "outputs": [],
   "source": [
    "# export CUDA_VISIBLE_DEVICES=0\n",
    "import os\n",
    "\n",
    "os.environ[\"CUDA_VISIBLE_DEVICES\"] = \"0\""
   ]
  },
  {
   "cell_type": "code",
   "execution_count": 1,
   "metadata": {},
   "outputs": [
    {
     "data": {
      "text/plain": [
       "True"
      ]
     },
     "execution_count": 1,
     "metadata": {},
     "output_type": "execute_result"
    }
   ],
   "source": [
    "import torch\n",
    "\n",
    "# torch is available\n",
    "\n",
    "torch.cuda.is_available()"
   ]
  },
  {
   "cell_type": "markdown",
   "metadata": {},
   "source": [
    "#### Инициализация модели с huggingface\n",
    "Ссылка на модель: [https://huggingface.co/mitchelldehaven/whisper-medium-ru](https://huggingface.co/mitchelldehaven/whisper-medium-ru)"
   ]
  },
  {
   "cell_type": "code",
   "execution_count": 1,
   "metadata": {},
   "outputs": [
    {
     "name": "stdout",
     "output_type": "stream",
     "text": [
      "WARNING:tensorflow:From c:\\Users\\Davron\\code\\.venv\\Lib\\site-packages\\tf_keras\\src\\losses.py:2976: The name tf.losses.sparse_softmax_cross_entropy is deprecated. Please use tf.compat.v1.losses.sparse_softmax_cross_entropy instead.\n",
      "\n"
     ]
    },
    {
     "name": "stderr",
     "output_type": "stream",
     "text": [
      "Special tokens have been added in the vocabulary, make sure the associated word embeddings are fine-tuned or trained.\n",
      "Special tokens have been added in the vocabulary, make sure the associated word embeddings are fine-tuned or trained.\n"
     ]
    }
   ],
   "source": [
    "from transformers import pipeline\n",
    "# whisper pipeline on cuda\n",
    "\n",
    "whisper  = pipeline(\"automatic-speech-recognition\",\n",
    "                    \"mitchelldehaven/whisper-medium-ru\", device=0, batch_size=4)"
   ]
  },
  {
   "cell_type": "markdown",
   "metadata": {},
   "source": [
    "#### Парсинг скачанных файлов датасета\n",
    "Ссылка на датасет: [https://github.com/snakers4/open_stt](https://github.com/snakers4/open_stt)"
   ]
  },
  {
   "cell_type": "code",
   "execution_count": 2,
   "metadata": {},
   "outputs": [],
   "source": [
    "## dataset from folder audios and text\n",
    "import os\n",
    "\n",
    "audio_files = []\n",
    "for root, dirs, files in os.walk('data/asr_public_phone_calls_1'):\n",
    "    for file in files:\n",
    "        if file.endswith('.opus'):\n",
    "            audio_files.append(os.path.join(root, file))"
   ]
  },
  {
   "cell_type": "markdown",
   "metadata": {},
   "source": [
    "#### Выделение 15000 образцов"
   ]
  },
  {
   "cell_type": "code",
   "execution_count": 3,
   "metadata": {},
   "outputs": [
    {
     "data": {
      "text/html": [
       "<div>\n",
       "<style scoped>\n",
       "    .dataframe tbody tr th:only-of-type {\n",
       "        vertical-align: middle;\n",
       "    }\n",
       "\n",
       "    .dataframe tbody tr th {\n",
       "        vertical-align: top;\n",
       "    }\n",
       "\n",
       "    .dataframe thead th {\n",
       "        text-align: right;\n",
       "    }\n",
       "</style>\n",
       "<table border=\"1\" class=\"dataframe\">\n",
       "  <thead>\n",
       "    <tr style=\"text-align: right;\">\n",
       "      <th></th>\n",
       "      <th>audio_path</th>\n",
       "      <th>text_path</th>\n",
       "      <th>model_annotation</th>\n",
       "    </tr>\n",
       "  </thead>\n",
       "  <tbody>\n",
       "    <tr>\n",
       "      <th>0</th>\n",
       "      <td>data/asr_public_phone_calls_1\\0\\00\\09b83c7eb91...</td>\n",
       "      <td>data/asr_public_phone_calls_1\\0\\00\\09b83c7eb91...</td>\n",
       "      <td>это вопрос это вспомнить надо\\n</td>\n",
       "    </tr>\n",
       "    <tr>\n",
       "      <th>1</th>\n",
       "      <td>data/asr_public_phone_calls_1\\0\\00\\0b8a7145390...</td>\n",
       "      <td>data/asr_public_phone_calls_1\\0\\00\\0b8a7145390...</td>\n",
       "      <td>я кстати хочу вас познакомить с барием\\n</td>\n",
       "    </tr>\n",
       "    <tr>\n",
       "      <th>2</th>\n",
       "      <td>data/asr_public_phone_calls_1\\0\\00\\0f9697a8578...</td>\n",
       "      <td>data/asr_public_phone_calls_1\\0\\00\\0f9697a8578...</td>\n",
       "      <td>кафе шишка слышу уже знать звонила\\n</td>\n",
       "    </tr>\n",
       "    <tr>\n",
       "      <th>3</th>\n",
       "      <td>data/asr_public_phone_calls_1\\0\\00\\154f8d23228...</td>\n",
       "      <td>data/asr_public_phone_calls_1\\0\\00\\154f8d23228...</td>\n",
       "      <td>я ничего не пойму что вы от меня хотите\\n</td>\n",
       "    </tr>\n",
       "    <tr>\n",
       "      <th>4</th>\n",
       "      <td>data/asr_public_phone_calls_1\\0\\00\\15cf50b9f7f...</td>\n",
       "      <td>data/asr_public_phone_calls_1\\0\\00\\15cf50b9f7f...</td>\n",
       "      <td>для закрытия\\n</td>\n",
       "    </tr>\n",
       "  </tbody>\n",
       "</table>\n",
       "</div>"
      ],
      "text/plain": [
       "                                          audio_path  \\\n",
       "0  data/asr_public_phone_calls_1\\0\\00\\09b83c7eb91...   \n",
       "1  data/asr_public_phone_calls_1\\0\\00\\0b8a7145390...   \n",
       "2  data/asr_public_phone_calls_1\\0\\00\\0f9697a8578...   \n",
       "3  data/asr_public_phone_calls_1\\0\\00\\154f8d23228...   \n",
       "4  data/asr_public_phone_calls_1\\0\\00\\15cf50b9f7f...   \n",
       "\n",
       "                                           text_path  \\\n",
       "0  data/asr_public_phone_calls_1\\0\\00\\09b83c7eb91...   \n",
       "1  data/asr_public_phone_calls_1\\0\\00\\0b8a7145390...   \n",
       "2  data/asr_public_phone_calls_1\\0\\00\\0f9697a8578...   \n",
       "3  data/asr_public_phone_calls_1\\0\\00\\154f8d23228...   \n",
       "4  data/asr_public_phone_calls_1\\0\\00\\15cf50b9f7f...   \n",
       "\n",
       "                            model_annotation  \n",
       "0            это вопрос это вспомнить надо\\n  \n",
       "1   я кстати хочу вас познакомить с барием\\n  \n",
       "2       кафе шишка слышу уже знать звонила\\n  \n",
       "3  я ничего не пойму что вы от меня хотите\\n  \n",
       "4                             для закрытия\\n  "
      ]
     },
     "execution_count": 3,
     "metadata": {},
     "output_type": "execute_result"
    }
   ],
   "source": [
    "# dataframe from audio files\n",
    "import pandas as pd\n",
    "\n",
    "df = pd.DataFrame(audio_files[:15000], columns=['audio_path'])\n",
    "df['text_path'] = df['audio_path'].str.replace('.opus', '.txt')\n",
    "# model transcriptions from text files\n",
    "df['model_annotation'] = df['text_path'].apply(lambda x: open(x, 'r', encoding='utf-8').read())\n",
    "df.head()"
   ]
  },
  {
   "cell_type": "code",
   "execution_count": 4,
   "metadata": {},
   "outputs": [
    {
     "data": {
      "text/plain": [
       "(15000, 3)"
      ]
     },
     "execution_count": 4,
     "metadata": {},
     "output_type": "execute_result"
    }
   ],
   "source": [
    "df.shape"
   ]
  },
  {
   "cell_type": "markdown",
   "metadata": {},
   "source": [
    "### Транскрипция речи при помощи модели"
   ]
  },
  {
   "cell_type": "code",
   "execution_count": 5,
   "metadata": {},
   "outputs": [
    {
     "name": "stderr",
     "output_type": "stream",
     "text": [
      "  0%|          | 0/15000 [00:00<?, ?it/s]c:\\Users\\Davron\\code\\.venv\\Lib\\site-packages\\transformers\\models\\whisper\\modeling_whisper.py:697: UserWarning: 1Torch was not compiled with flash attention. (Triggered internally at ..\\aten\\src\\ATen\\native\\transformers\\cuda\\sdp_utils.cpp:263.)\n",
      "  attn_output = torch.nn.functional.scaled_dot_product_attention(\n",
      "  0%|          | 11/15000 [00:07<2:34:19,  1.62it/s]--- Logging error ---\n",
      "Traceback (most recent call last):\n",
      "  File \"C:\\Users\\Davron\\AppData\\Local\\Programs\\Python\\Python311\\Lib\\logging\\__init__.py\", line 1110, in emit\n",
      "    msg = self.format(record)\n",
      "          ^^^^^^^^^^^^^^^^^^^\n",
      "  File \"C:\\Users\\Davron\\AppData\\Local\\Programs\\Python\\Python311\\Lib\\logging\\__init__.py\", line 953, in format\n",
      "    return fmt.format(record)\n",
      "           ^^^^^^^^^^^^^^^^^^\n",
      "  File \"C:\\Users\\Davron\\AppData\\Local\\Programs\\Python\\Python311\\Lib\\logging\\__init__.py\", line 687, in format\n",
      "    record.message = record.getMessage()\n",
      "                     ^^^^^^^^^^^^^^^^^^^\n",
      "  File \"C:\\Users\\Davron\\AppData\\Local\\Programs\\Python\\Python311\\Lib\\logging\\__init__.py\", line 377, in getMessage\n",
      "    msg = msg % self.args\n",
      "          ~~~~^~~~~~~~~~~\n",
      "TypeError: not all arguments converted during string formatting\n",
      "Call stack:\n",
      "  File \"<frozen runpy>\", line 198, in _run_module_as_main\n",
      "  File \"<frozen runpy>\", line 88, in _run_code\n",
      "  File \"c:\\Users\\Davron\\code\\.venv\\Lib\\site-packages\\ipykernel_launcher.py\", line 18, in <module>\n",
      "    app.launch_new_instance()\n",
      "  File \"c:\\Users\\Davron\\code\\.venv\\Lib\\site-packages\\traitlets\\config\\application.py\", line 1075, in launch_instance\n",
      "    app.start()\n",
      "  File \"c:\\Users\\Davron\\code\\.venv\\Lib\\site-packages\\ipykernel\\kernelapp.py\", line 739, in start\n",
      "    self.io_loop.start()\n",
      "  File \"c:\\Users\\Davron\\code\\.venv\\Lib\\site-packages\\tornado\\platform\\asyncio.py\", line 205, in start\n",
      "    self.asyncio_loop.run_forever()\n",
      "  File \"C:\\Users\\Davron\\AppData\\Local\\Programs\\Python\\Python311\\Lib\\asyncio\\base_events.py\", line 607, in run_forever\n",
      "    self._run_once()\n",
      "  File \"C:\\Users\\Davron\\AppData\\Local\\Programs\\Python\\Python311\\Lib\\asyncio\\base_events.py\", line 1922, in _run_once\n",
      "    handle._run()\n",
      "  File \"C:\\Users\\Davron\\AppData\\Local\\Programs\\Python\\Python311\\Lib\\asyncio\\events.py\", line 80, in _run\n",
      "    self._context.run(self._callback, *self._args)\n",
      "  File \"c:\\Users\\Davron\\code\\.venv\\Lib\\site-packages\\ipykernel\\kernelbase.py\", line 545, in dispatch_queue\n",
      "    await self.process_one()\n",
      "  File \"c:\\Users\\Davron\\code\\.venv\\Lib\\site-packages\\ipykernel\\kernelbase.py\", line 534, in process_one\n",
      "    await dispatch(*args)\n",
      "  File \"c:\\Users\\Davron\\code\\.venv\\Lib\\site-packages\\ipykernel\\kernelbase.py\", line 437, in dispatch_shell\n",
      "    await result\n",
      "  File \"c:\\Users\\Davron\\code\\.venv\\Lib\\site-packages\\ipykernel\\ipkernel.py\", line 362, in execute_request\n",
      "    await super().execute_request(stream, ident, parent)\n",
      "  File \"c:\\Users\\Davron\\code\\.venv\\Lib\\site-packages\\ipykernel\\kernelbase.py\", line 778, in execute_request\n",
      "    reply_content = await reply_content\n",
      "  File \"c:\\Users\\Davron\\code\\.venv\\Lib\\site-packages\\ipykernel\\ipkernel.py\", line 449, in do_execute\n",
      "    res = shell.run_cell(\n",
      "  File \"c:\\Users\\Davron\\code\\.venv\\Lib\\site-packages\\ipykernel\\zmqshell.py\", line 549, in run_cell\n",
      "    return super().run_cell(*args, **kwargs)\n",
      "  File \"c:\\Users\\Davron\\code\\.venv\\Lib\\site-packages\\IPython\\core\\interactiveshell.py\", line 3075, in run_cell\n",
      "    result = self._run_cell(\n",
      "  File \"c:\\Users\\Davron\\code\\.venv\\Lib\\site-packages\\IPython\\core\\interactiveshell.py\", line 3130, in _run_cell\n",
      "    result = runner(coro)\n",
      "  File \"c:\\Users\\Davron\\code\\.venv\\Lib\\site-packages\\IPython\\core\\async_helpers.py\", line 129, in _pseudo_sync_runner\n",
      "    coro.send(None)\n",
      "  File \"c:\\Users\\Davron\\code\\.venv\\Lib\\site-packages\\IPython\\core\\interactiveshell.py\", line 3334, in run_cell_async\n",
      "    has_raised = await self.run_ast_nodes(code_ast.body, cell_name,\n",
      "  File \"c:\\Users\\Davron\\code\\.venv\\Lib\\site-packages\\IPython\\core\\interactiveshell.py\", line 3517, in run_ast_nodes\n",
      "    if await self.run_code(code, result, async_=asy):\n",
      "  File \"c:\\Users\\Davron\\code\\.venv\\Lib\\site-packages\\IPython\\core\\interactiveshell.py\", line 3577, in run_code\n",
      "    exec(code_obj, self.user_global_ns, self.user_ns)\n",
      "  File \"C:\\Users\\Davron\\AppData\\Local\\Temp\\ipykernel_20028\\3160030078.py\", line 4, in <module>\n",
      "    df['whisper_transcription'] = df['audio_path'].progress_apply(lambda x: whisper(x))\n",
      "  File \"c:\\Users\\Davron\\code\\.venv\\Lib\\site-packages\\tqdm\\std.py\", line 917, in inner\n",
      "    return getattr(df, df_function)(wrapper, **kwargs)\n",
      "  File \"c:\\Users\\Davron\\code\\.venv\\Lib\\site-packages\\pandas\\core\\series.py\", line 4915, in apply\n",
      "    ).apply()\n",
      "  File \"c:\\Users\\Davron\\code\\.venv\\Lib\\site-packages\\pandas\\core\\apply.py\", line 1427, in apply\n",
      "    return self.apply_standard()\n",
      "  File \"c:\\Users\\Davron\\code\\.venv\\Lib\\site-packages\\pandas\\core\\apply.py\", line 1507, in apply_standard\n",
      "    mapped = obj._map_values(\n",
      "  File \"c:\\Users\\Davron\\code\\.venv\\Lib\\site-packages\\pandas\\core\\base.py\", line 921, in _map_values\n",
      "    return algorithms.map_array(arr, mapper, na_action=na_action, convert=convert)\n",
      "  File \"c:\\Users\\Davron\\code\\.venv\\Lib\\site-packages\\pandas\\core\\algorithms.py\", line 1743, in map_array\n",
      "    return lib.map_infer(values, mapper, convert=convert)\n",
      "  File \"c:\\Users\\Davron\\code\\.venv\\Lib\\site-packages\\tqdm\\std.py\", line 912, in wrapper\n",
      "    return func(*args, **kwargs)\n",
      "  File \"C:\\Users\\Davron\\AppData\\Local\\Temp\\ipykernel_20028\\3160030078.py\", line 4, in <lambda>\n",
      "    df['whisper_transcription'] = df['audio_path'].progress_apply(lambda x: whisper(x))\n",
      "  File \"c:\\Users\\Davron\\code\\.venv\\Lib\\site-packages\\transformers\\pipelines\\automatic_speech_recognition.py\", line 285, in __call__\n",
      "    return super().__call__(inputs, **kwargs)\n",
      "  File \"c:\\Users\\Davron\\code\\.venv\\Lib\\site-packages\\transformers\\pipelines\\base.py\", line 1167, in __call__\n",
      "    logger.warning_once(\n",
      "  File \"c:\\Users\\Davron\\code\\.venv\\Lib\\site-packages\\transformers\\utils\\logging.py\", line 329, in warning_once\n",
      "    self.warning(*args, **kwargs)\n",
      "Message: 'You seem to be using the pipelines sequentially on GPU. In order to maximize efficiency please use a dataset'\n",
      "Arguments: (<class 'UserWarning'>,)\n",
      "100%|██████████| 15000/15000 [3:58:36<00:00,  1.05it/s]  \n"
     ]
    }
   ],
   "source": [
    "from tqdm import tqdm\n",
    "\n",
    "tqdm.pandas()\n",
    "df['whisper_transcription'] = df['audio_path'].progress_apply(lambda x: whisper(x))\n",
    "df['whisper_transcription'] = df['whisper_transcription'].apply(lambda x: x['text'])\n",
    "df['model_annotation'] = df['model_annotation'].apply(lambda x: x.replace('\\n', ''))"
   ]
  },
  {
   "cell_type": "code",
   "execution_count": 6,
   "metadata": {},
   "outputs": [
    {
     "data": {
      "text/html": [
       "<div>\n",
       "<style scoped>\n",
       "    .dataframe tbody tr th:only-of-type {\n",
       "        vertical-align: middle;\n",
       "    }\n",
       "\n",
       "    .dataframe tbody tr th {\n",
       "        vertical-align: top;\n",
       "    }\n",
       "\n",
       "    .dataframe thead th {\n",
       "        text-align: right;\n",
       "    }\n",
       "</style>\n",
       "<table border=\"1\" class=\"dataframe\">\n",
       "  <thead>\n",
       "    <tr style=\"text-align: right;\">\n",
       "      <th></th>\n",
       "      <th>audio_path</th>\n",
       "      <th>text_path</th>\n",
       "      <th>model_annotation</th>\n",
       "      <th>whisper_transcription</th>\n",
       "    </tr>\n",
       "  </thead>\n",
       "  <tbody>\n",
       "    <tr>\n",
       "      <th>0</th>\n",
       "      <td>data/asr_public_phone_calls_1\\0\\00\\09b83c7eb91...</td>\n",
       "      <td>data/asr_public_phone_calls_1\\0\\00\\09b83c7eb91...</td>\n",
       "      <td>это вопрос это вспомнить надо</td>\n",
       "      <td>как то бас рол ты тоже помнишь да</td>\n",
       "    </tr>\n",
       "    <tr>\n",
       "      <th>1</th>\n",
       "      <td>data/asr_public_phone_calls_1\\0\\00\\0b8a7145390...</td>\n",
       "      <td>data/asr_public_phone_calls_1\\0\\00\\0b8a7145390...</td>\n",
       "      <td>я кстати хочу вас познакомить с барием</td>\n",
       "      <td>я кстати хочу вас познакомить с борей</td>\n",
       "    </tr>\n",
       "    <tr>\n",
       "      <th>2</th>\n",
       "      <td>data/asr_public_phone_calls_1\\0\\00\\0f9697a8578...</td>\n",
       "      <td>data/asr_public_phone_calls_1\\0\\00\\0f9697a8578...</td>\n",
       "      <td>кафе шишка слышу уже знать звонила</td>\n",
       "      <td>квадрат и слышать да слышу уже мать звонила</td>\n",
       "    </tr>\n",
       "    <tr>\n",
       "      <th>3</th>\n",
       "      <td>data/asr_public_phone_calls_1\\0\\00\\154f8d23228...</td>\n",
       "      <td>data/asr_public_phone_calls_1\\0\\00\\154f8d23228...</td>\n",
       "      <td>я ничего не пойму что вы от меня хотите</td>\n",
       "      <td>я ничего не пойму что вы от меня хотите</td>\n",
       "    </tr>\n",
       "    <tr>\n",
       "      <th>4</th>\n",
       "      <td>data/asr_public_phone_calls_1\\0\\00\\15cf50b9f7f...</td>\n",
       "      <td>data/asr_public_phone_calls_1\\0\\00\\15cf50b9f7f...</td>\n",
       "      <td>для закрытия</td>\n",
       "      <td>для закрытия</td>\n",
       "    </tr>\n",
       "  </tbody>\n",
       "</table>\n",
       "</div>"
      ],
      "text/plain": [
       "                                          audio_path  \\\n",
       "0  data/asr_public_phone_calls_1\\0\\00\\09b83c7eb91...   \n",
       "1  data/asr_public_phone_calls_1\\0\\00\\0b8a7145390...   \n",
       "2  data/asr_public_phone_calls_1\\0\\00\\0f9697a8578...   \n",
       "3  data/asr_public_phone_calls_1\\0\\00\\154f8d23228...   \n",
       "4  data/asr_public_phone_calls_1\\0\\00\\15cf50b9f7f...   \n",
       "\n",
       "                                           text_path  \\\n",
       "0  data/asr_public_phone_calls_1\\0\\00\\09b83c7eb91...   \n",
       "1  data/asr_public_phone_calls_1\\0\\00\\0b8a7145390...   \n",
       "2  data/asr_public_phone_calls_1\\0\\00\\0f9697a8578...   \n",
       "3  data/asr_public_phone_calls_1\\0\\00\\154f8d23228...   \n",
       "4  data/asr_public_phone_calls_1\\0\\00\\15cf50b9f7f...   \n",
       "\n",
       "                          model_annotation  \\\n",
       "0            это вопрос это вспомнить надо   \n",
       "1   я кстати хочу вас познакомить с барием   \n",
       "2       кафе шишка слышу уже знать звонила   \n",
       "3  я ничего не пойму что вы от меня хотите   \n",
       "4                             для закрытия   \n",
       "\n",
       "                         whisper_transcription  \n",
       "0            как то бас рол ты тоже помнишь да  \n",
       "1        я кстати хочу вас познакомить с борей  \n",
       "2  квадрат и слышать да слышу уже мать звонила  \n",
       "3      я ничего не пойму что вы от меня хотите  \n",
       "4                                 для закрытия  "
      ]
     },
     "execution_count": 6,
     "metadata": {},
     "output_type": "execute_result"
    }
   ],
   "source": [
    "df.head()"
   ]
  },
  {
   "cell_type": "markdown",
   "metadata": {},
   "source": [
    "#### Рассчёт WER между транскрипцией модели и исходной разметки (неизвестной моделью)"
   ]
  },
  {
   "cell_type": "code",
   "execution_count": 7,
   "metadata": {},
   "outputs": [],
   "source": [
    "import jiwer\n",
    "\n",
    "df['wer_whisper_model'] = df.apply(lambda x: jiwer.wer(x['whisper_transcription'], x['model_annotation']), axis=1)"
   ]
  },
  {
   "cell_type": "markdown",
   "metadata": {},
   "source": [
    "#### Разметка Label, основываясь на WER"
   ]
  },
  {
   "cell_type": "code",
   "execution_count": 8,
   "metadata": {},
   "outputs": [],
   "source": [
    "df['label'] = df['wer_whisper_model'].apply(lambda x: 1 if x > 0.48 else 0)"
   ]
  },
  {
   "cell_type": "code",
   "execution_count": 9,
   "metadata": {},
   "outputs": [
    {
     "data": {
      "text/html": [
       "<div>\n",
       "<style scoped>\n",
       "    .dataframe tbody tr th:only-of-type {\n",
       "        vertical-align: middle;\n",
       "    }\n",
       "\n",
       "    .dataframe tbody tr th {\n",
       "        vertical-align: top;\n",
       "    }\n",
       "\n",
       "    .dataframe thead th {\n",
       "        text-align: right;\n",
       "    }\n",
       "</style>\n",
       "<table border=\"1\" class=\"dataframe\">\n",
       "  <thead>\n",
       "    <tr style=\"text-align: right;\">\n",
       "      <th></th>\n",
       "      <th>audio_path</th>\n",
       "      <th>text_path</th>\n",
       "      <th>model_annotation</th>\n",
       "      <th>whisper_transcription</th>\n",
       "      <th>wer_whisper_model</th>\n",
       "      <th>label</th>\n",
       "    </tr>\n",
       "  </thead>\n",
       "  <tbody>\n",
       "    <tr>\n",
       "      <th>0</th>\n",
       "      <td>data/asr_public_phone_calls_1\\0\\00\\09b83c7eb91...</td>\n",
       "      <td>data/asr_public_phone_calls_1\\0\\00\\09b83c7eb91...</td>\n",
       "      <td>это вопрос это вспомнить надо</td>\n",
       "      <td>как то бас рол ты тоже помнишь да</td>\n",
       "      <td>1.000000</td>\n",
       "      <td>1</td>\n",
       "    </tr>\n",
       "    <tr>\n",
       "      <th>1</th>\n",
       "      <td>data/asr_public_phone_calls_1\\0\\00\\0b8a7145390...</td>\n",
       "      <td>data/asr_public_phone_calls_1\\0\\00\\0b8a7145390...</td>\n",
       "      <td>я кстати хочу вас познакомить с барием</td>\n",
       "      <td>я кстати хочу вас познакомить с борей</td>\n",
       "      <td>0.142857</td>\n",
       "      <td>0</td>\n",
       "    </tr>\n",
       "    <tr>\n",
       "      <th>2</th>\n",
       "      <td>data/asr_public_phone_calls_1\\0\\00\\0f9697a8578...</td>\n",
       "      <td>data/asr_public_phone_calls_1\\0\\00\\0f9697a8578...</td>\n",
       "      <td>кафе шишка слышу уже знать звонила</td>\n",
       "      <td>квадрат и слышать да слышу уже мать звонила</td>\n",
       "      <td>0.625000</td>\n",
       "      <td>1</td>\n",
       "    </tr>\n",
       "    <tr>\n",
       "      <th>3</th>\n",
       "      <td>data/asr_public_phone_calls_1\\0\\00\\154f8d23228...</td>\n",
       "      <td>data/asr_public_phone_calls_1\\0\\00\\154f8d23228...</td>\n",
       "      <td>я ничего не пойму что вы от меня хотите</td>\n",
       "      <td>я ничего не пойму что вы от меня хотите</td>\n",
       "      <td>0.000000</td>\n",
       "      <td>0</td>\n",
       "    </tr>\n",
       "    <tr>\n",
       "      <th>4</th>\n",
       "      <td>data/asr_public_phone_calls_1\\0\\00\\15cf50b9f7f...</td>\n",
       "      <td>data/asr_public_phone_calls_1\\0\\00\\15cf50b9f7f...</td>\n",
       "      <td>для закрытия</td>\n",
       "      <td>для закрытия</td>\n",
       "      <td>0.000000</td>\n",
       "      <td>0</td>\n",
       "    </tr>\n",
       "  </tbody>\n",
       "</table>\n",
       "</div>"
      ],
      "text/plain": [
       "                                          audio_path  \\\n",
       "0  data/asr_public_phone_calls_1\\0\\00\\09b83c7eb91...   \n",
       "1  data/asr_public_phone_calls_1\\0\\00\\0b8a7145390...   \n",
       "2  data/asr_public_phone_calls_1\\0\\00\\0f9697a8578...   \n",
       "3  data/asr_public_phone_calls_1\\0\\00\\154f8d23228...   \n",
       "4  data/asr_public_phone_calls_1\\0\\00\\15cf50b9f7f...   \n",
       "\n",
       "                                           text_path  \\\n",
       "0  data/asr_public_phone_calls_1\\0\\00\\09b83c7eb91...   \n",
       "1  data/asr_public_phone_calls_1\\0\\00\\0b8a7145390...   \n",
       "2  data/asr_public_phone_calls_1\\0\\00\\0f9697a8578...   \n",
       "3  data/asr_public_phone_calls_1\\0\\00\\154f8d23228...   \n",
       "4  data/asr_public_phone_calls_1\\0\\00\\15cf50b9f7f...   \n",
       "\n",
       "                          model_annotation  \\\n",
       "0            это вопрос это вспомнить надо   \n",
       "1   я кстати хочу вас познакомить с барием   \n",
       "2       кафе шишка слышу уже знать звонила   \n",
       "3  я ничего не пойму что вы от меня хотите   \n",
       "4                             для закрытия   \n",
       "\n",
       "                         whisper_transcription  wer_whisper_model  label  \n",
       "0            как то бас рол ты тоже помнишь да           1.000000      1  \n",
       "1        я кстати хочу вас познакомить с борей           0.142857      0  \n",
       "2  квадрат и слышать да слышу уже мать звонила           0.625000      1  \n",
       "3      я ничего не пойму что вы от меня хотите           0.000000      0  \n",
       "4                                 для закрытия           0.000000      0  "
      ]
     },
     "execution_count": 9,
     "metadata": {},
     "output_type": "execute_result"
    }
   ],
   "source": [
    "df.head()"
   ]
  },
  {
   "cell_type": "markdown",
   "metadata": {},
   "source": [
    "#### Сохранение Датасета"
   ]
  },
  {
   "cell_type": "code",
   "execution_count": 10,
   "metadata": {},
   "outputs": [],
   "source": [
    "# save to xlsx\n",
    "df.to_excel('data/aug_dataset_15000.xlsx', index=False)"
   ]
  },
  {
   "cell_type": "markdown",
   "metadata": {},
   "source": [
    "#### Чтение датасета"
   ]
  },
  {
   "cell_type": "code",
   "execution_count": 11,
   "metadata": {},
   "outputs": [
    {
     "data": {
      "text/html": [
       "<div>\n",
       "<style scoped>\n",
       "    .dataframe tbody tr th:only-of-type {\n",
       "        vertical-align: middle;\n",
       "    }\n",
       "\n",
       "    .dataframe tbody tr th {\n",
       "        vertical-align: top;\n",
       "    }\n",
       "\n",
       "    .dataframe thead th {\n",
       "        text-align: right;\n",
       "    }\n",
       "</style>\n",
       "<table border=\"1\" class=\"dataframe\">\n",
       "  <thead>\n",
       "    <tr style=\"text-align: right;\">\n",
       "      <th></th>\n",
       "      <th>audio_path</th>\n",
       "      <th>text_path</th>\n",
       "      <th>model_annotation</th>\n",
       "      <th>whisper_transcription</th>\n",
       "      <th>wer_whisper_model</th>\n",
       "      <th>label</th>\n",
       "    </tr>\n",
       "  </thead>\n",
       "  <tbody>\n",
       "    <tr>\n",
       "      <th>0</th>\n",
       "      <td>data/asr_public_phone_calls_1\\0\\00\\09b83c7eb91...</td>\n",
       "      <td>data/asr_public_phone_calls_1\\0\\00\\09b83c7eb91...</td>\n",
       "      <td>это вопрос это вспомнить надо</td>\n",
       "      <td>как то бас рол ты тоже помнишь да</td>\n",
       "      <td>1.000000</td>\n",
       "      <td>1</td>\n",
       "    </tr>\n",
       "    <tr>\n",
       "      <th>1</th>\n",
       "      <td>data/asr_public_phone_calls_1\\0\\00\\0b8a7145390...</td>\n",
       "      <td>data/asr_public_phone_calls_1\\0\\00\\0b8a7145390...</td>\n",
       "      <td>я кстати хочу вас познакомить с барием</td>\n",
       "      <td>я кстати хочу вас познакомить с борей</td>\n",
       "      <td>0.142857</td>\n",
       "      <td>0</td>\n",
       "    </tr>\n",
       "    <tr>\n",
       "      <th>2</th>\n",
       "      <td>data/asr_public_phone_calls_1\\0\\00\\0f9697a8578...</td>\n",
       "      <td>data/asr_public_phone_calls_1\\0\\00\\0f9697a8578...</td>\n",
       "      <td>кафе шишка слышу уже знать звонила</td>\n",
       "      <td>квадрат и слышать да слышу уже мать звонила</td>\n",
       "      <td>0.625000</td>\n",
       "      <td>1</td>\n",
       "    </tr>\n",
       "    <tr>\n",
       "      <th>3</th>\n",
       "      <td>data/asr_public_phone_calls_1\\0\\00\\154f8d23228...</td>\n",
       "      <td>data/asr_public_phone_calls_1\\0\\00\\154f8d23228...</td>\n",
       "      <td>я ничего не пойму что вы от меня хотите</td>\n",
       "      <td>я ничего не пойму что вы от меня хотите</td>\n",
       "      <td>0.000000</td>\n",
       "      <td>0</td>\n",
       "    </tr>\n",
       "    <tr>\n",
       "      <th>4</th>\n",
       "      <td>data/asr_public_phone_calls_1\\0\\00\\15cf50b9f7f...</td>\n",
       "      <td>data/asr_public_phone_calls_1\\0\\00\\15cf50b9f7f...</td>\n",
       "      <td>для закрытия</td>\n",
       "      <td>для закрытия</td>\n",
       "      <td>0.000000</td>\n",
       "      <td>0</td>\n",
       "    </tr>\n",
       "  </tbody>\n",
       "</table>\n",
       "</div>"
      ],
      "text/plain": [
       "                                          audio_path  \\\n",
       "0  data/asr_public_phone_calls_1\\0\\00\\09b83c7eb91...   \n",
       "1  data/asr_public_phone_calls_1\\0\\00\\0b8a7145390...   \n",
       "2  data/asr_public_phone_calls_1\\0\\00\\0f9697a8578...   \n",
       "3  data/asr_public_phone_calls_1\\0\\00\\154f8d23228...   \n",
       "4  data/asr_public_phone_calls_1\\0\\00\\15cf50b9f7f...   \n",
       "\n",
       "                                           text_path  \\\n",
       "0  data/asr_public_phone_calls_1\\0\\00\\09b83c7eb91...   \n",
       "1  data/asr_public_phone_calls_1\\0\\00\\0b8a7145390...   \n",
       "2  data/asr_public_phone_calls_1\\0\\00\\0f9697a8578...   \n",
       "3  data/asr_public_phone_calls_1\\0\\00\\154f8d23228...   \n",
       "4  data/asr_public_phone_calls_1\\0\\00\\15cf50b9f7f...   \n",
       "\n",
       "                          model_annotation  \\\n",
       "0            это вопрос это вспомнить надо   \n",
       "1   я кстати хочу вас познакомить с барием   \n",
       "2       кафе шишка слышу уже знать звонила   \n",
       "3  я ничего не пойму что вы от меня хотите   \n",
       "4                             для закрытия   \n",
       "\n",
       "                         whisper_transcription  wer_whisper_model  label  \n",
       "0            как то бас рол ты тоже помнишь да           1.000000      1  \n",
       "1        я кстати хочу вас познакомить с борей           0.142857      0  \n",
       "2  квадрат и слышать да слышу уже мать звонила           0.625000      1  \n",
       "3      я ничего не пойму что вы от меня хотите           0.000000      0  \n",
       "4                                 для закрытия           0.000000      0  "
      ]
     },
     "execution_count": 11,
     "metadata": {},
     "output_type": "execute_result"
    }
   ],
   "source": [
    "import pandas as pd\n",
    "\n",
    "df = pd.read_excel('data/aug_dataset_15000.xlsx')\n",
    "df.head()"
   ]
  },
  {
   "cell_type": "code",
   "execution_count": 12,
   "metadata": {},
   "outputs": [],
   "source": [
    "del_col_df = df.loc[:, ['model_annotation', 'label']]"
   ]
  },
  {
   "cell_type": "code",
   "execution_count": 13,
   "metadata": {},
   "outputs": [],
   "source": [
    "del_col_df.to_csv('data/aug_dataset_15000.csv', index=False)"
   ]
  },
  {
   "cell_type": "markdown",
   "metadata": {},
   "source": [
    "### Проверка точности транскрипции новой моделью по сравнению с ручной разметкой"
   ]
  },
  {
   "cell_type": "markdown",
   "metadata": {},
   "source": [
    "#### Чтение исходного датасета с ручной разметкой"
   ]
  },
  {
   "cell_type": "code",
   "execution_count": 55,
   "metadata": {},
   "outputs": [
    {
     "data": {
      "text/html": [
       "<div>\n",
       "<style scoped>\n",
       "    .dataframe tbody tr th:only-of-type {\n",
       "        vertical-align: middle;\n",
       "    }\n",
       "\n",
       "    .dataframe tbody tr th {\n",
       "        vertical-align: top;\n",
       "    }\n",
       "\n",
       "    .dataframe thead th {\n",
       "        text-align: right;\n",
       "    }\n",
       "</style>\n",
       "<table border=\"1\" class=\"dataframe\">\n",
       "  <thead>\n",
       "    <tr style=\"text-align: right;\">\n",
       "      <th></th>\n",
       "      <th>model_annotation</th>\n",
       "      <th>human_markup</th>\n",
       "      <th>audio_path</th>\n",
       "      <th>label</th>\n",
       "    </tr>\n",
       "  </thead>\n",
       "  <tbody>\n",
       "    <tr>\n",
       "      <th>0</th>\n",
       "      <td>давай по россии значит на коленях быстро блять...</td>\n",
       "      <td>давай проси значит на коленях быстро блять</td>\n",
       "      <td>s3://ap-training-set/xacaton_openstt/part_1/05...</td>\n",
       "      <td>1</td>\n",
       "    </tr>\n",
       "    <tr>\n",
       "      <th>1</th>\n",
       "      <td>ну разве можно так с телефоном поступает</td>\n",
       "      <td>ну что ну разве можно так с телефоном поступать</td>\n",
       "      <td>s3://ap-training-set/xacaton_openstt/part_1/05...</td>\n",
       "      <td>0</td>\n",
       "    </tr>\n",
       "    <tr>\n",
       "      <th>2</th>\n",
       "      <td>у меня нет с собой в полном адресе я щас дома ...</td>\n",
       "      <td>у меня нет с собой полного адреса я щас из дом...</td>\n",
       "      <td>s3://ap-training-set/xacaton_openstt/part_1/05...</td>\n",
       "      <td>0</td>\n",
       "    </tr>\n",
       "    <tr>\n",
       "      <th>3</th>\n",
       "      <td>а я здесь кто я санитар</td>\n",
       "      <td>а я знаешь кто я санитар</td>\n",
       "      <td>s3://ap-training-set/xacaton_openstt/part_1/05...</td>\n",
       "      <td>0</td>\n",
       "    </tr>\n",
       "    <tr>\n",
       "      <th>4</th>\n",
       "      <td>дежурный по кузьминскому военнокомату</td>\n",
       "      <td>дежурный по кузьминскому военкомату</td>\n",
       "      <td>s3://ap-training-set/xacaton_openstt/part_1/05...</td>\n",
       "      <td>0</td>\n",
       "    </tr>\n",
       "  </tbody>\n",
       "</table>\n",
       "</div>"
      ],
      "text/plain": [
       "                                    model_annotation  \\\n",
       "0  давай по россии значит на коленях быстро блять...   \n",
       "1           ну разве можно так с телефоном поступает   \n",
       "2  у меня нет с собой в полном адресе я щас дома ...   \n",
       "3                            а я здесь кто я санитар   \n",
       "4              дежурный по кузьминскому военнокомату   \n",
       "\n",
       "                                        human_markup  \\\n",
       "0         давай проси значит на коленях быстро блять   \n",
       "1    ну что ну разве можно так с телефоном поступать   \n",
       "2  у меня нет с собой полного адреса я щас из дом...   \n",
       "3                           а я знаешь кто я санитар   \n",
       "4                дежурный по кузьминскому военкомату   \n",
       "\n",
       "                                          audio_path  label  \n",
       "0  s3://ap-training-set/xacaton_openstt/part_1/05...      1  \n",
       "1  s3://ap-training-set/xacaton_openstt/part_1/05...      0  \n",
       "2  s3://ap-training-set/xacaton_openstt/part_1/05...      0  \n",
       "3  s3://ap-training-set/xacaton_openstt/part_1/05...      0  \n",
       "4  s3://ap-training-set/xacaton_openstt/part_1/05...      0  "
      ]
     },
     "execution_count": 55,
     "metadata": {},
     "output_type": "execute_result"
    }
   ],
   "source": [
    "# read old dataset from xslx\n",
    "import pandas as pd\n",
    "\n",
    "df = pd.read_excel('data/hackaton_result_dataset.xlsx')\n",
    "# get only 10 rows\n",
    "# df = df.head(1000)\n",
    "df.head()"
   ]
  },
  {
   "cell_type": "markdown",
   "metadata": {},
   "source": [
    "### Вычисление WER между ручной разметкой и транскрипцией неизвестной моделью"
   ]
  },
  {
   "cell_type": "code",
   "execution_count": 27,
   "metadata": {},
   "outputs": [
    {
     "data": {
      "text/html": [
       "<div>\n",
       "<style scoped>\n",
       "    .dataframe tbody tr th:only-of-type {\n",
       "        vertical-align: middle;\n",
       "    }\n",
       "\n",
       "    .dataframe tbody tr th {\n",
       "        vertical-align: top;\n",
       "    }\n",
       "\n",
       "    .dataframe thead th {\n",
       "        text-align: right;\n",
       "    }\n",
       "</style>\n",
       "<table border=\"1\" class=\"dataframe\">\n",
       "  <thead>\n",
       "    <tr style=\"text-align: right;\">\n",
       "      <th></th>\n",
       "      <th>model_annotation</th>\n",
       "      <th>human_markup</th>\n",
       "      <th>audio_path</th>\n",
       "      <th>label</th>\n",
       "      <th>wer_human_model</th>\n",
       "    </tr>\n",
       "  </thead>\n",
       "  <tbody>\n",
       "    <tr>\n",
       "      <th>0</th>\n",
       "      <td>давай по россии значит на коленях быстро блять...</td>\n",
       "      <td>давай проси значит на коленях быстро блять</td>\n",
       "      <td>s3://ap-training-set/xacaton_openstt/part_1/05...</td>\n",
       "      <td>1</td>\n",
       "      <td>0.428571</td>\n",
       "    </tr>\n",
       "    <tr>\n",
       "      <th>1</th>\n",
       "      <td>ну разве можно так с телефоном поступает</td>\n",
       "      <td>ну что ну разве можно так с телефоном поступать</td>\n",
       "      <td>s3://ap-training-set/xacaton_openstt/part_1/05...</td>\n",
       "      <td>0</td>\n",
       "      <td>0.333333</td>\n",
       "    </tr>\n",
       "    <tr>\n",
       "      <th>2</th>\n",
       "      <td>у меня нет с собой в полном адресе я щас дома ...</td>\n",
       "      <td>у меня нет с собой полного адреса я щас из дом...</td>\n",
       "      <td>s3://ap-training-set/xacaton_openstt/part_1/05...</td>\n",
       "      <td>0</td>\n",
       "      <td>0.323529</td>\n",
       "    </tr>\n",
       "    <tr>\n",
       "      <th>3</th>\n",
       "      <td>а я здесь кто я санитар</td>\n",
       "      <td>а я знаешь кто я санитар</td>\n",
       "      <td>s3://ap-training-set/xacaton_openstt/part_1/05...</td>\n",
       "      <td>0</td>\n",
       "      <td>0.166667</td>\n",
       "    </tr>\n",
       "    <tr>\n",
       "      <th>4</th>\n",
       "      <td>дежурный по кузьминскому военнокомату</td>\n",
       "      <td>дежурный по кузьминскому военкомату</td>\n",
       "      <td>s3://ap-training-set/xacaton_openstt/part_1/05...</td>\n",
       "      <td>0</td>\n",
       "      <td>0.250000</td>\n",
       "    </tr>\n",
       "  </tbody>\n",
       "</table>\n",
       "</div>"
      ],
      "text/plain": [
       "                                    model_annotation  \\\n",
       "0  давай по россии значит на коленях быстро блять...   \n",
       "1           ну разве можно так с телефоном поступает   \n",
       "2  у меня нет с собой в полном адресе я щас дома ...   \n",
       "3                            а я здесь кто я санитар   \n",
       "4              дежурный по кузьминскому военнокомату   \n",
       "\n",
       "                                        human_markup  \\\n",
       "0         давай проси значит на коленях быстро блять   \n",
       "1    ну что ну разве можно так с телефоном поступать   \n",
       "2  у меня нет с собой полного адреса я щас из дом...   \n",
       "3                           а я знаешь кто я санитар   \n",
       "4                дежурный по кузьминскому военкомату   \n",
       "\n",
       "                                          audio_path  label  wer_human_model  \n",
       "0  s3://ap-training-set/xacaton_openstt/part_1/05...      1         0.428571  \n",
       "1  s3://ap-training-set/xacaton_openstt/part_1/05...      0         0.333333  \n",
       "2  s3://ap-training-set/xacaton_openstt/part_1/05...      0         0.323529  \n",
       "3  s3://ap-training-set/xacaton_openstt/part_1/05...      0         0.166667  \n",
       "4  s3://ap-training-set/xacaton_openstt/part_1/05...      0         0.250000  "
      ]
     },
     "execution_count": 27,
     "metadata": {},
     "output_type": "execute_result"
    }
   ],
   "source": [
    "# count WER with jiwer\n",
    "\n",
    "import jiwer\n",
    "\n",
    "df['wer_human_model'] = df.apply(lambda x: jiwer.wer(x['human_markup'], x['model_annotation']), axis=1)\n",
    "df.head()"
   ]
  },
  {
   "cell_type": "code",
   "execution_count": 28,
   "metadata": {},
   "outputs": [
    {
     "data": {
      "text/html": [
       "<div>\n",
       "<style scoped>\n",
       "    .dataframe tbody tr th:only-of-type {\n",
       "        vertical-align: middle;\n",
       "    }\n",
       "\n",
       "    .dataframe tbody tr th {\n",
       "        vertical-align: top;\n",
       "    }\n",
       "\n",
       "    .dataframe thead th {\n",
       "        text-align: right;\n",
       "    }\n",
       "</style>\n",
       "<table border=\"1\" class=\"dataframe\">\n",
       "  <thead>\n",
       "    <tr style=\"text-align: right;\">\n",
       "      <th></th>\n",
       "      <th>model_annotation</th>\n",
       "      <th>human_markup</th>\n",
       "      <th>audio_path</th>\n",
       "      <th>label</th>\n",
       "      <th>wer_human_model</th>\n",
       "    </tr>\n",
       "  </thead>\n",
       "  <tbody>\n",
       "    <tr>\n",
       "      <th>0</th>\n",
       "      <td>давай по россии значит на коленях быстро блять...</td>\n",
       "      <td>давай проси значит на коленях быстро блять</td>\n",
       "      <td>data/filter_audio/05a8baf22e2a.wav</td>\n",
       "      <td>1</td>\n",
       "      <td>0.428571</td>\n",
       "    </tr>\n",
       "    <tr>\n",
       "      <th>1</th>\n",
       "      <td>ну разве можно так с телефоном поступает</td>\n",
       "      <td>ну что ну разве можно так с телефоном поступать</td>\n",
       "      <td>data/filter_audio/05a5a51a1e9a.wav</td>\n",
       "      <td>0</td>\n",
       "      <td>0.333333</td>\n",
       "    </tr>\n",
       "    <tr>\n",
       "      <th>2</th>\n",
       "      <td>у меня нет с собой в полном адресе я щас дома ...</td>\n",
       "      <td>у меня нет с собой полного адреса я щас из дом...</td>\n",
       "      <td>data/filter_audio/05a4c4f90c59.wav</td>\n",
       "      <td>0</td>\n",
       "      <td>0.323529</td>\n",
       "    </tr>\n",
       "    <tr>\n",
       "      <th>3</th>\n",
       "      <td>а я здесь кто я санитар</td>\n",
       "      <td>а я знаешь кто я санитар</td>\n",
       "      <td>data/filter_audio/059d08276851.wav</td>\n",
       "      <td>0</td>\n",
       "      <td>0.166667</td>\n",
       "    </tr>\n",
       "    <tr>\n",
       "      <th>4</th>\n",
       "      <td>дежурный по кузьминскому военнокомату</td>\n",
       "      <td>дежурный по кузьминскому военкомату</td>\n",
       "      <td>data/filter_audio/059af3258ca9.wav</td>\n",
       "      <td>0</td>\n",
       "      <td>0.250000</td>\n",
       "    </tr>\n",
       "  </tbody>\n",
       "</table>\n",
       "</div>"
      ],
      "text/plain": [
       "                                    model_annotation  \\\n",
       "0  давай по россии значит на коленях быстро блять...   \n",
       "1           ну разве можно так с телефоном поступает   \n",
       "2  у меня нет с собой в полном адресе я щас дома ...   \n",
       "3                            а я здесь кто я санитар   \n",
       "4              дежурный по кузьминскому военнокомату   \n",
       "\n",
       "                                        human_markup  \\\n",
       "0         давай проси значит на коленях быстро блять   \n",
       "1    ну что ну разве можно так с телефоном поступать   \n",
       "2  у меня нет с собой полного адреса я щас из дом...   \n",
       "3                           а я знаешь кто я санитар   \n",
       "4                дежурный по кузьминскому военкомату   \n",
       "\n",
       "                           audio_path  label  wer_human_model  \n",
       "0  data/filter_audio/05a8baf22e2a.wav      1         0.428571  \n",
       "1  data/filter_audio/05a5a51a1e9a.wav      0         0.333333  \n",
       "2  data/filter_audio/05a4c4f90c59.wav      0         0.323529  \n",
       "3  data/filter_audio/059d08276851.wav      0         0.166667  \n",
       "4  data/filter_audio/059af3258ca9.wav      0         0.250000  "
      ]
     },
     "execution_count": 28,
     "metadata": {},
     "output_type": "execute_result"
    }
   ],
   "source": [
    "# change audio_path to data/filter_audio from s3://ap-training-set/xacaton_openstt/part_1/\n",
    "df['audio_path'] = df['audio_path'].str.replace('s3://ap-training-set/xacaton_openstt/part_1/', 'data/filter_audio/')\n",
    "df['audio_path'] = df['audio_path'].str.replace('s3://ap-training-set/xacaton_openstt/part_2/', 'data/filter_audio/')\n",
    "df['audio_path'] = df['audio_path'].str.replace('s3://ap-training-set/xacaton_openstt/part_3/', 'data/filter_audio/')\n",
    "df.head()"
   ]
  },
  {
   "cell_type": "code",
   "execution_count": 29,
   "metadata": {},
   "outputs": [],
   "source": [
    "for i in df['audio_path'].tolist():\n",
    "    if not os.path.exists(i):\n",
    "        print(i)"
   ]
  },
  {
   "cell_type": "markdown",
   "metadata": {},
   "source": [
    "#### Транскрипция новой моделью (Whisper)"
   ]
  },
  {
   "cell_type": "code",
   "execution_count": 30,
   "metadata": {},
   "outputs": [
    {
     "name": "stderr",
     "output_type": "stream",
     "text": [
      "100%|██████████| 6508/6508 [1:14:49<00:00,  1.45it/s]\n"
     ]
    }
   ],
   "source": [
    "# transcriptions from whisper\n",
    "\n",
    "df['whisper_transcription'] = df['audio_path'].progress_apply(lambda x: whisper(x, chunk_length_s=30, batch_size=4))\n",
    "df['whisper_transcription'] = df['whisper_transcription'].apply(lambda x: x['text'])"
   ]
  },
  {
   "cell_type": "markdown",
   "metadata": {},
   "source": [
    "#### Вычисление WER между транскрипцией новой моделью и исходной транскрипцией неизвестной моделью"
   ]
  },
  {
   "cell_type": "code",
   "execution_count": 41,
   "metadata": {},
   "outputs": [
    {
     "data": {
      "text/plain": [
       "0.7997848801475107"
      ]
     },
     "execution_count": 41,
     "metadata": {},
     "output_type": "execute_result"
    }
   ],
   "source": [
    "# add wer_whisper\n",
    "df['wer_whisper_model'] = df.apply(lambda x: jiwer.wer(x['whisper_transcription'], x['model_annotation']), axis=1)\n",
    "\n",
    "# label with wer threshold 0.43\n",
    "df['label_by_whisper'] = df['wer_whisper_model'].apply(lambda x: 1 if x > 0.48 else 0)\n",
    "\n",
    "# accuracy between label and label_by_whisper\n",
    "df['accuracy_between_labels'] = df.apply(lambda x: 1 if x['label'] == x['label_by_whisper'] else 0, axis=1)\n",
    "# sum divide to count accuracy\n",
    "df['accuracy_between_labels'].sum() / len(df)"
   ]
  },
  {
   "cell_type": "markdown",
   "metadata": {},
   "source": [
    "### Вывод:\n",
    "Разметка новой моделью дает 80% точности ручной разметки, что дает надежду на использование данной разметки для аугментации датасета и дальнейшего использования увеличенного датасета для обучения сложных моделей (на основе нейронных сетей)"
   ]
  },
  {
   "cell_type": "markdown",
   "metadata": {},
   "source": [
    "### Сохранение датасета"
   ]
  },
  {
   "cell_type": "code",
   "execution_count": 42,
   "metadata": {},
   "outputs": [],
   "source": [
    "df.to_excel('data/dataset_add_whisper.xlsx', index=False)"
   ]
  }
 ],
 "metadata": {
  "kernelspec": {
   "display_name": ".venv",
   "language": "python",
   "name": "python3"
  },
  "language_info": {
   "codemirror_mode": {
    "name": "ipython",
    "version": 3
   },
   "file_extension": ".py",
   "mimetype": "text/x-python",
   "name": "python",
   "nbconvert_exporter": "python",
   "pygments_lexer": "ipython3",
   "version": "3.11.2"
  }
 },
 "nbformat": 4,
 "nbformat_minor": 2
}
